{
 "cells": [
  {
   "cell_type": "markdown",
   "metadata": {
    "colab_type": "text",
    "id": "mGiondXADVIq"
   },
   "source": [
    "## Download and unzip data"
   ]
  },
  {
   "cell_type": "code",
   "execution_count": null,
   "metadata": {},
   "outputs": [],
   "source": [
    "# https://drive.google.com/drive/folders/1G83TuEQEs1Y4-ttaXxywWeARF3HzA4JL?usp=sharing"
   ]
  },
  {
   "cell_type": "code",
   "execution_count": null,
   "metadata": {},
   "outputs": [],
   "source": [
    "# !wget --load-cookies /tmp/cookies.txt \"https://docs.google.com/uc?export=download&confirm=$(wget --quiet --save-cookies /tmp/cookies.txt --keep-session-cookies --no-check-certificate 'https://docs.google.com/uc?export=download&id=1G83TuEQEs1Y4-ttaXxywWeARF3HzA4JL' -O- | sed -rn 's/.*confirm=([0-9A-Za-z_]+).*/\\1\\n/p')&id=1G83TuEQEs1Y4-ttaXxywWeARF3HzA4JL\" -O data/image && rm -rf /tmp/cookies.txt"
   ]
  },
  {
   "cell_type": "code",
   "execution_count": null,
   "metadata": {
    "colab": {},
    "colab_type": "code",
    "id": "qHhspNH5hE01"
   },
   "outputs": [],
   "source": [
    "# !wget 'http://www.cis.um.edu.mo/research/shelldataset//static/new_shell_images_2nd.zip'\n",
    "# !wget 'cis.um.edu.mo/research/shelldataset//static/new_shell_images_2nd.zip'\n",
    "# !wget --no-check-certificate 'https://drive.google.com/drive/folders/1G83TuEQEs1Y4-ttaXxywWeARF3HzA4JL?usp=sharing' -O 'data/image'"
   ]
  },
  {
   "cell_type": "code",
   "execution_count": null,
   "metadata": {
    "colab": {},
    "colab_type": "code",
    "id": "Cp32EAx-hOoW"
   },
   "outputs": [],
   "source": [
    "# !unzip './data/new_shell_images_2nd.zip' -d 'data/image'"
   ]
  },
  {
   "cell_type": "markdown",
   "metadata": {
    "colab_type": "text",
    "id": "Bh4qSQoEDZqn"
   },
   "source": [
    "## Imports"
   ]
  },
  {
   "cell_type": "code",
   "execution_count": 1,
   "metadata": {
    "colab": {
     "base_uri": "https://localhost:8080/",
     "height": 34
    },
    "colab_type": "code",
    "id": "YJlopJobYhkm",
    "outputId": "acb616b5-adde-41f5-ed18-d8b44a879964"
   },
   "outputs": [],
   "source": [
    "import tensorflow as tf\n",
    "import numpy as np\n",
    "import pandas as pd\n",
    "import  os \n",
    "from  random import shuffle\n",
    "# from tqdm import tqdm\n",
    "# import cv2\n",
    "import glob as glob\n",
    "from keras.preprocessing.image import load_img\n",
    "from keras.preprocessing.image import img_to_array\n",
    "from keras.applications.vgg16 import preprocess_input\n",
    "from keras.applications.vgg16 import decode_predictions\n",
    "from keras.applications.vgg16 import VGG16\n",
    "\n",
    "from keras.applications import MobileNet\n",
    "from keras.applications.mobilenet import preprocess_input\n",
    "from keras.models import Model, Sequential\n",
    "from keras.layers import Dense, Conv2D, Flatten, Dropout, MaxPooling2D, GlobalAveragePooling2D\n",
    "from keras import optimizers\n",
    "from sklearn.model_selection import train_test_split\n",
    "from tensorflow.keras.preprocessing.image import ImageDataGenerator\n",
    "from keras.callbacks import ModelCheckpoint\n",
    "import re\n",
    "import matplotlib.pyplot as plt\n",
    "from PIL import Image\n",
    "import matplotlib.image as mpimg\n",
    "\n",
    "from keras.models import load_model"
   ]
  },
  {
   "cell_type": "code",
   "execution_count": 2,
   "metadata": {},
   "outputs": [
    {
     "data": {
      "text/plain": [
       "'2.2.0'"
      ]
     },
     "execution_count": 2,
     "metadata": {},
     "output_type": "execute_result"
    }
   ],
   "source": [
    "tf.__version__"
   ]
  },
  {
   "cell_type": "markdown",
   "metadata": {
    "colab_type": "text",
    "id": "upQtfs5PDciA"
   },
   "source": [
    "## Initial inspection of data"
   ]
  },
  {
   "cell_type": "code",
   "execution_count": 3,
   "metadata": {
    "colab": {
     "base_uri": "https://localhost:8080/",
     "height": 122
    },
    "colab_type": "code",
    "id": "RDSK0fn2PBZ0",
    "outputId": "ea5d8490-6f4e-4056-eff6-b6e9868e1bf3"
   },
   "outputs": [],
   "source": [
    "# from google.colab import drive\n",
    "# drive.mount('/content/drive')"
   ]
  },
  {
   "cell_type": "code",
   "execution_count": 3,
   "metadata": {
    "colab": {},
    "colab_type": "code",
    "id": "Q0qX__TnDj4C"
   },
   "outputs": [],
   "source": [
    "img_dir = '/home/atlas/Atlas/Bishwa/data/image'"
   ]
  },
  {
   "cell_type": "code",
   "execution_count": 4,
   "metadata": {
    "colab": {
     "base_uri": "https://localhost:8080/",
     "height": 231
    },
    "colab_type": "code",
    "id": "1rEJgQ_d7_zK",
    "outputId": "45d2768e-2fb8-40f6-b9f4-f4479cc0e437"
   },
   "outputs": [],
   "source": [
    "all_species = []\n",
    "for y in os.listdir(img_dir):\n",
    "    split = y.split('_')\n",
    "    species = split[0] + ' ' + split[1]\n",
    "    if species.lower() not in all_species:\n",
    "        all_species.append(species.lower())\n"
   ]
  },
  {
   "cell_type": "code",
   "execution_count": 5,
   "metadata": {
    "colab": {},
    "colab_type": "code",
    "id": "wLk8sCzO8BnL"
   },
   "outputs": [
    {
     "data": {
      "text/plain": [
       "7894"
      ]
     },
     "execution_count": 5,
     "metadata": {},
     "output_type": "execute_result"
    }
   ],
   "source": [
    "len(all_species)"
   ]
  },
  {
   "cell_type": "code",
   "execution_count": 6,
   "metadata": {},
   "outputs": [
    {
     "data": {
      "text/plain": [
       "'conus saharicus'"
      ]
     },
     "execution_count": 6,
     "metadata": {},
     "output_type": "execute_result"
    }
   ],
   "source": [
    "all_species[0]"
   ]
  },
  {
   "cell_type": "markdown",
   "metadata": {
    "colab_type": "text",
    "id": "1VIp1wt2DnuJ"
   },
   "source": [
    "- As mentioned there are 7894 labels"
   ]
  },
  {
   "cell_type": "code",
   "execution_count": 7,
   "metadata": {
    "colab": {},
    "colab_type": "code",
    "id": "QtOaeXlDDRyD"
   },
   "outputs": [
    {
     "name": "stdout",
     "output_type": "stream",
     "text": [
      "Image size:  (400, 300)\n"
     ]
    }
   ],
   "source": [
    "im = Image.open(img_dir+'/Aandara_consociata_10_A.jpg')\n",
    "print(\"Image size: \", im.size)"
   ]
  },
  {
   "cell_type": "code",
   "execution_count": 8,
   "metadata": {
    "colab": {},
    "colab_type": "code",
    "id": "xdfhjMpHDzG_"
   },
   "outputs": [
    {
     "data": {
      "image/png": "[encoded data removed]",
      "text/plain": [
       "<Figure size 432x288 with 1 Axes>"
      ]
     },
     "metadata": {
      "needs_background": "light"
     },
     "output_type": "display_data"
    }
   ],
   "source": [
    "img=mpimg.imread(img_dir+'/Aandara_consociata_10_A.jpg')\n",
    "imgplot = plt.imshow(img)\n",
    "plt.show()"
   ]
  },
  {
   "cell_type": "markdown",
   "metadata": {
    "colab_type": "text",
    "id": "g60VHQQTD4bH"
   },
   "source": [
    "## Creating dataset"
   ]
  },
  {
   "cell_type": "code",
   "execution_count": 9,
   "metadata": {
    "colab": {},
    "colab_type": "code",
    "id": "NjRcmgvLkHs2"
   },
   "outputs": [],
   "source": [
    "def label_img(img):\n",
    "    for y in os.listdir(img_dir):\n",
    "        split = y.split('_')\n",
    "        label = split[0] + ' ' + split[1]\n",
    "    return label\n",
    "\n",
    "def create_train_data():\n",
    "    data = []\n",
    "    for img in tqdm(os.listdir(img_dir)):\n",
    "        label = label_img(img)\n",
    "        path = os.path.join(img_dir,img)\n",
    "        input_img = cv2.imread(path,cv2.IMREAD_COLOR)\n",
    "        if input_img is not None:\n",
    "            img = cv2.resize(input_img, (IMG_SIZE,IMG_SIZE))\n",
    "            data.append([np.array(img), np.array(label)])\n",
    "        else:\n",
    "            print(\"image not loaded\")\n",
    "\n",
    "\n",
    "    shuffle(data)\n",
    "    np.save('data.npy', data)\n",
    "    return data"
   ]
  },
  {
   "cell_type": "code",
   "execution_count": 10,
   "metadata": {
    "colab": {},
    "colab_type": "code",
    "id": "maScrdj1ut8W"
   },
   "outputs": [],
   "source": [
    "def create_dataframe():\n",
    "    image_dict = {}\n",
    "    image_dict['image'] = []\n",
    "    image_dict['label'] = []\n",
    "  \n",
    "  # for img in tqdm(os.listdir(img_dir)):\n",
    "  #   label = label_img(img)\n",
    "  #   image_dict['label'].append(label)\n",
    "\n",
    "    for imagepath in glob.glob(img_dir+'/*.jpg'):\n",
    "        image = imagepath.split(\"/\")[7]\n",
    "        image_dict['image'].append(image)\n",
    "        split = image.split('_')\n",
    "        label = split[0] + ' ' + split[1]\n",
    "#         split = image.split('.')\n",
    "#         label =  split[0]\n",
    "        image_dict['label'].append(label)\n",
    "    df = pd.DataFrame.from_dict(image_dict)\n",
    "    return df"
   ]
  },
  {
   "cell_type": "code",
   "execution_count": 11,
   "metadata": {
    "colab": {
     "base_uri": "https://localhost:8080/",
     "height": 34
    },
    "colab_type": "code",
    "id": "xQsh46SAW9J_",
    "outputId": "3ee4a435-5250-4722-cdef-e1d4d834d2b7"
   },
   "outputs": [
    {
     "name": "stdout",
     "output_type": "stream",
     "text": [
      "['', 'home', 'atlas', 'Atlas', 'Bishwa', 'data', 'image', 'Conus_saharicus_1_B.jpg']\n"
     ]
    }
   ],
   "source": [
    "for imagepath in glob.glob(img_dir+'/*.jpg'):\n",
    "    image = imagepath.split(\"/\")\n",
    "    print(image)\n",
    "    break"
   ]
  },
  {
   "cell_type": "code",
   "execution_count": 12,
   "metadata": {
    "colab": {
     "base_uri": "https://localhost:8080/",
     "height": 49
    },
    "colab_type": "code",
    "id": "T8SSkL4ZyqMw",
    "outputId": "e15e2113-f050-47e2-a380-4a29dbfdd9db"
   },
   "outputs": [
    {
     "data": {
      "text/html": [
       "<div>\n",
       "<style scoped>\n",
       "    .dataframe tbody tr th:only-of-type {\n",
       "        vertical-align: middle;\n",
       "    }\n",
       "\n",
       "    .dataframe tbody tr th {\n",
       "        vertical-align: top;\n",
       "    }\n",
       "\n",
       "    .dataframe thead th {\n",
       "        text-align: right;\n",
       "    }\n",
       "</style>\n",
       "<table border=\"1\" class=\"dataframe\">\n",
       "  <thead>\n",
       "    <tr style=\"text-align: right;\">\n",
       "      <th></th>\n",
       "      <th>image</th>\n",
       "      <th>label</th>\n",
       "    </tr>\n",
       "  </thead>\n",
       "  <tbody>\n",
       "    <tr>\n",
       "      <th>0</th>\n",
       "      <td>Conus_saharicus_1_B.jpg</td>\n",
       "      <td>Conus saharicus</td>\n",
       "    </tr>\n",
       "    <tr>\n",
       "      <th>1</th>\n",
       "      <td>Schizoplax_brandtii_4_A.jpg</td>\n",
       "      <td>Schizoplax brandtii</td>\n",
       "    </tr>\n",
       "    <tr>\n",
       "      <th>2</th>\n",
       "      <td>Babynonia_areolata_13_B.jpg</td>\n",
       "      <td>Babynonia areolata</td>\n",
       "    </tr>\n",
       "    <tr>\n",
       "      <th>3</th>\n",
       "      <td>Heleobia_australis_3_B.jpg</td>\n",
       "      <td>Heleobia australis</td>\n",
       "    </tr>\n",
       "    <tr>\n",
       "      <th>4</th>\n",
       "      <td>Arthritica_helmsi_1_B.jpg</td>\n",
       "      <td>Arthritica helmsi</td>\n",
       "    </tr>\n",
       "  </tbody>\n",
       "</table>\n",
       "</div>"
      ],
      "text/plain": [
       "                         image                label\n",
       "0      Conus_saharicus_1_B.jpg      Conus saharicus\n",
       "1  Schizoplax_brandtii_4_A.jpg  Schizoplax brandtii\n",
       "2  Babynonia_areolata_13_B.jpg   Babynonia areolata\n",
       "3   Heleobia_australis_3_B.jpg   Heleobia australis\n",
       "4    Arthritica_helmsi_1_B.jpg    Arthritica helmsi"
      ]
     },
     "execution_count": 12,
     "metadata": {},
     "output_type": "execute_result"
    }
   ],
   "source": [
    "data = create_dataframe()\n",
    "data.head()"
   ]
  },
  {
   "cell_type": "code",
   "execution_count": 13,
   "metadata": {},
   "outputs": [
    {
     "data": {
      "text/plain": [
       "image    Arthritica_helmsi_1_B.jpg\n",
       "label            Arthritica helmsi\n",
       "Name: 4, dtype: object"
      ]
     },
     "execution_count": 13,
     "metadata": {},
     "output_type": "execute_result"
    }
   ],
   "source": [
    "data.iloc[4]"
   ]
  },
  {
   "cell_type": "code",
   "execution_count": 14,
   "metadata": {
    "colab": {
     "base_uri": "https://localhost:8080/",
     "height": 34
    },
    "colab_type": "code",
    "id": "WptkmfVH05pA",
    "outputId": "8080804b-eb51-4f28-b0c6-c9537edc790e"
   },
   "outputs": [
    {
     "data": {
      "text/plain": [
       "(59244, 2)"
      ]
     },
     "execution_count": 14,
     "metadata": {},
     "output_type": "execute_result"
    }
   ],
   "source": [
    "data.shape"
   ]
  },
  {
   "cell_type": "code",
   "execution_count": 15,
   "metadata": {},
   "outputs": [],
   "source": [
    "# data.to_csv('/home/atlas/Atlas/Bishwa/data/data.csv', index = False, header=True)"
   ]
  },
  {
   "cell_type": "code",
   "execution_count": 16,
   "metadata": {},
   "outputs": [],
   "source": [
    "# j = data.to_json()"
   ]
  },
  {
   "cell_type": "code",
   "execution_count": 17,
   "metadata": {},
   "outputs": [],
   "source": [
    "# import json\n",
    "# with open('/home/atlas/Atlas/Bishwa/data/data.json', 'w') as f:\n",
    "#     json.dump(j, f)"
   ]
  },
  {
   "cell_type": "code",
   "execution_count": 18,
   "metadata": {},
   "outputs": [
    {
     "data": {
      "text/plain": [
       "7894"
      ]
     },
     "execution_count": 18,
     "metadata": {},
     "output_type": "execute_result"
    }
   ],
   "source": [
    "len(data['label'].unique())"
   ]
  },
  {
   "cell_type": "code",
   "execution_count": 19,
   "metadata": {
    "colab": {},
    "colab_type": "code",
    "id": "7vkIE1d93SPp"
   },
   "outputs": [],
   "source": [
    "batch_size = 128\n",
    "epochs = 10\n",
    "IMG_HEIGHT = 224\n",
    "IMG_WIDTH = 224"
   ]
  },
  {
   "cell_type": "code",
   "execution_count": 20,
   "metadata": {
    "colab": {},
    "colab_type": "code",
    "id": "9JzPsEHT4m_V"
   },
   "outputs": [],
   "source": [
    "train_data, valid_data = train_test_split(data, test_size=0.2,stratify=data['label'])"
   ]
  },
  {
   "cell_type": "code",
   "execution_count": 21,
   "metadata": {
    "colab": {},
    "colab_type": "code",
    "id": "_Q0TdI3QGZn1"
   },
   "outputs": [],
   "source": [
    "# valid_data, test_data = train_test_split(valid_data, test_size=0.15)"
   ]
  },
  {
   "cell_type": "code",
   "execution_count": 22,
   "metadata": {
    "colab": {},
    "colab_type": "code",
    "id": "emAwuqZ72CT6"
   },
   "outputs": [],
   "source": [
    "# X_train, X_test, y_train, y_test = train_test_split(data['image'], data['label'], test_size=0.15,stratify=data['label'])"
   ]
  },
  {
   "cell_type": "code",
   "execution_count": 23,
   "metadata": {
    "colab": {},
    "colab_type": "code",
    "id": "92vQHJnr1GWA"
   },
   "outputs": [],
   "source": [
    "train_image_generator = ImageDataGenerator(rescale=1./255)\n",
    "validation_image_generator = ImageDataGenerator(rescale=1./255)"
   ]
  },
  {
   "cell_type": "code",
   "execution_count": 24,
   "metadata": {
    "colab": {
     "base_uri": "https://localhost:8080/",
     "height": 51
    },
    "colab_type": "code",
    "id": "ZQbDTTSy3Jfw",
    "outputId": "4e678f63-a08d-42b3-80a4-d265adbf1488"
   },
   "outputs": [
    {
     "name": "stdout",
     "output_type": "stream",
     "text": [
      "Found 47395 validated image filenames belonging to 7894 classes.\n"
     ]
    },
    {
     "data": {
      "text/plain": [
       "<keras_preprocessing.image.dataframe_iterator.DataFrameIterator at 0x7fc46069f310>"
      ]
     },
     "execution_count": 24,
     "metadata": {},
     "output_type": "execute_result"
    }
   ],
   "source": [
    "train_data_gen = train_image_generator.flow_from_dataframe(\n",
    "                                                          dataframe = train_data, \n",
    "                                                          x_col = \"image\",\n",
    "                                                          y_col = \"label\",\n",
    "                                                          batch_size=batch_size,\n",
    "                                                           directory=img_dir,\n",
    "                                                           shuffle=True,\n",
    "                                                           target_size=(IMG_HEIGHT, \n",
    "                                                           IMG_WIDTH),\n",
    "                                                           class_mode='categorical')\n",
    "train_data_gen"
   ]
  },
  {
   "cell_type": "code",
   "execution_count": 25,
   "metadata": {},
   "outputs": [],
   "source": [
    "label_dict = train_data_gen.class_indices"
   ]
  },
  {
   "cell_type": "code",
   "execution_count": 26,
   "metadata": {
    "colab": {
     "base_uri": "https://localhost:8080/",
     "height": 51
    },
    "colab_type": "code",
    "id": "AljtIqrO33My",
    "outputId": "e6d9018d-cbd5-4cb6-d784-448d5973fd0c"
   },
   "outputs": [
    {
     "name": "stdout",
     "output_type": "stream",
     "text": [
      "Found 11849 validated image filenames belonging to 5719 classes.\n"
     ]
    },
    {
     "data": {
      "text/plain": [
       "<keras_preprocessing.image.dataframe_iterator.DataFrameIterator at 0x7fc463844af0>"
      ]
     },
     "execution_count": 26,
     "metadata": {},
     "output_type": "execute_result"
    }
   ],
   "source": [
    "valid_data_gen = validation_image_generator.flow_from_dataframe(\n",
    "                                                          dataframe = valid_data, \n",
    "                                                          x_col = \"image\",\n",
    "                                                          y_col = \"label\",\n",
    "                                                           directory=img_dir,\n",
    "                                                           shuffle=False,\n",
    "                                                           target_size=(IMG_HEIGHT, \n",
    "                                                           IMG_WIDTH),\n",
    "                                                           class_mode='categorical')\n",
    "valid_data_gen"
   ]
  },
  {
   "cell_type": "code",
   "execution_count": 24,
   "metadata": {
    "colab": {
     "base_uri": "https://localhost:8080/",
     "height": 51
    },
    "colab_type": "code",
    "id": "TW_py9O1H5gx",
    "outputId": "0c9f6c8d-9085-4703-b28b-41d843bc53a5"
   },
   "outputs": [],
   "source": [
    "# test_data_gen = validation_image_generator.flow_from_dataframe(\n",
    "#                                                           dataframe = test_data, \n",
    "#                                                           x_col = \"image\",\n",
    "#                                                           y_col = None,\n",
    "#                                                            directory=img_dir,\n",
    "#                                                            shuffle=False,\n",
    "#                                                            target_size=(IMG_HEIGHT, \n",
    "#                                                            IMG_WIDTH),\n",
    "#                                                            class_mode=None)\n",
    "# valid_data_gen"
   ]
  },
  {
   "cell_type": "markdown",
   "metadata": {
    "colab_type": "text",
    "id": "FjX2DRXhEZ0c"
   },
   "source": [
    "## Simple baseline model"
   ]
  },
  {
   "cell_type": "code",
   "execution_count": 32,
   "metadata": {
    "colab": {},
    "colab_type": "code",
    "id": "9jlDfxHF7YII"
   },
   "outputs": [],
   "source": [
    "def model_1():\n",
    "    model = Sequential()\n",
    "    model.add(Conv2D(32, kernel_size=(3, 3),\n",
    "                 activation='relu',\n",
    "                 input_shape=(224, 224 ,3)))\n",
    "    model.add(Conv2D(64, (3, 3), activation='relu'))\n",
    "    model.add(MaxPooling2D(pool_size=(2, 2)))\n",
    "    model.add(Dropout(0.25))\n",
    "    model.add(Conv2D(128, (3, 3), activation='relu'))\n",
    "    model.add(MaxPooling2D(pool_size=(2, 2)))\n",
    "    model.add(MaxPooling2D(pool_size=(2, 2)))\n",
    "    model.add(Conv2D(128, (3, 3), activation='relu'))\n",
    "    model.add(MaxPooling2D(pool_size=(2, 2)))\n",
    "    model.add(MaxPooling2D(pool_size=(2, 2)))\n",
    "    model.add(Flatten())\n",
    "    model.add(Dropout(.6))\n",
    "  # model.add(Dense(128, activation='relu'))\n",
    " \n",
    "    model.add(Dense(7894, activation='softmax'))\n",
    "\n",
    "    return model"
   ]
  },
  {
   "cell_type": "code",
   "execution_count": 33,
   "metadata": {
    "colab": {
     "base_uri": "https://localhost:8080/",
     "height": 459
    },
    "colab_type": "code",
    "id": "bVG9pTDqfT-S",
    "outputId": "40711235-7740-4331-914e-c3b156b7559a"
   },
   "outputs": [
    {
     "name": "stdout",
     "output_type": "stream",
     "text": [
      "Model: \"sequential_1\"\n",
      "_________________________________________________________________\n",
      "Layer (type)                 Output Shape              Param #   \n",
      "=================================================================\n",
      "conv2d_4 (Conv2D)            (None, 222, 222, 32)      896       \n",
      "_________________________________________________________________\n",
      "conv2d_5 (Conv2D)            (None, 220, 220, 64)      18496     \n",
      "_________________________________________________________________\n",
      "max_pooling2d_5 (MaxPooling2 (None, 110, 110, 64)      0         \n",
      "_________________________________________________________________\n",
      "dropout_2 (Dropout)          (None, 110, 110, 64)      0         \n",
      "_________________________________________________________________\n",
      "conv2d_6 (Conv2D)            (None, 108, 108, 128)     73856     \n",
      "_________________________________________________________________\n",
      "max_pooling2d_6 (MaxPooling2 (None, 54, 54, 128)       0         \n",
      "_________________________________________________________________\n",
      "max_pooling2d_7 (MaxPooling2 (None, 27, 27, 128)       0         \n",
      "_________________________________________________________________\n",
      "conv2d_7 (Conv2D)            (None, 25, 25, 128)       147584    \n",
      "_________________________________________________________________\n",
      "max_pooling2d_8 (MaxPooling2 (None, 12, 12, 128)       0         \n",
      "_________________________________________________________________\n",
      "max_pooling2d_9 (MaxPooling2 (None, 6, 6, 128)         0         \n",
      "_________________________________________________________________\n",
      "flatten_1 (Flatten)          (None, 4608)              0         \n",
      "_________________________________________________________________\n",
      "dropout_3 (Dropout)          (None, 4608)              0         \n",
      "_________________________________________________________________\n",
      "dense_4 (Dense)              (None, 7894)              36383446  \n",
      "=================================================================\n",
      "Total params: 36,624,278\n",
      "Trainable params: 36,624,278\n",
      "Non-trainable params: 0\n",
      "_________________________________________________________________\n"
     ]
    }
   ],
   "source": [
    "model = model_1()\n",
    "model.summary()"
   ]
  },
  {
   "cell_type": "code",
   "execution_count": 35,
   "metadata": {
    "colab": {},
    "colab_type": "code",
    "id": "KLdpWJ41XKYB"
   },
   "outputs": [],
   "source": [
    "model = model_1()\n",
    "\n",
    "model.compile(loss=\"categorical_crossentropy\",\n",
    "              optimizer='adam',\n",
    "              metrics=['accuracy'])"
   ]
  },
  {
   "cell_type": "code",
   "execution_count": 38,
   "metadata": {
    "colab": {
     "base_uri": "https://localhost:8080/",
     "height": 1000
    },
    "colab_type": "code",
    "id": "Mjvul6MZo2ai",
    "outputId": "e20b1e3e-d60c-41ad-a073-c6a3be5e09af"
   },
   "outputs": [
    {
     "name": "stdout",
     "output_type": "stream",
     "text": [
      "Epoch 1/10\n",
      "370/370 [==============================] - 190s 514ms/step - loss: 7.6006 - accuracy: 0.0418\n",
      "Epoch 2/10\n",
      "370/370 [==============================] - 191s 516ms/step - loss: 6.2047 - accuracy: 0.1157\n",
      "Epoch 3/10\n",
      "370/370 [==============================] - 191s 516ms/step - loss: 5.0347 - accuracy: 0.2001\n",
      "Epoch 4/10\n",
      "370/370 [==============================] - 191s 516ms/step - loss: 4.1269 - accuracy: 0.2787\n",
      "Epoch 5/10\n",
      "370/370 [==============================] - 191s 516ms/step - loss: 3.3970 - accuracy: 0.3540\n",
      "Epoch 6/10\n",
      "370/370 [==============================] - 191s 516ms/step - loss: 2.8056 - accuracy: 0.4172\n",
      "Epoch 7/10\n",
      "370/370 [==============================] - 191s 516ms/step - loss: 2.3460 - accuracy: 0.4798\n",
      "Epoch 8/10\n",
      "370/370 [==============================] - 191s 516ms/step - loss: 1.9736 - accuracy: 0.5372\n",
      "Epoch 9/10\n",
      "370/370 [==============================] - 191s 516ms/step - loss: 1.6860 - accuracy: 0.5872\n",
      "Epoch 10/10\n",
      "370/370 [==============================] - 191s 516ms/step - loss: 1.4552 - accuracy: 0.6329\n"
     ]
    }
   ],
   "source": [
    "history = model.fit(train_data_gen,steps_per_epoch=train_data_gen.n//train_data_gen.batch_size,\n",
    "                    epochs=10)\n",
    "#                    validation_data=valid_data_gen,\n",
    "#                    validation_steps=valid_data_gen.n//valid_data_gen.batch_size)"
   ]
  },
  {
   "cell_type": "code",
   "execution_count": 44,
   "metadata": {
    "colab": {},
    "colab_type": "code",
    "id": "W8A1TvPhp-x3",
    "scrolled": true
   },
   "outputs": [
    {
     "data": {
      "image/png": "[encoded data removed]",
      "text/plain": [
       "<Figure size 576x576 with 2 Axes>"
      ]
     },
     "metadata": {
      "needs_background": "light"
     },
     "output_type": "display_data"
    }
   ],
   "source": [
    "acc = history.history['accuracy']\n",
    "loss=history.history['loss']\n",
    "epochs_range = range(epochs)\n",
    "\n",
    "plt.figure(figsize=(8, 8))\n",
    "plt.subplot(1, 2, 1)\n",
    "plt.plot(epochs_range, acc, label='Accuracy')\n",
    "# plt.plot(epochs_range, val_acc, label='Validation Accuracy')\n",
    "# plt.plot(epochs_range, loss, label='Training Loss')\n",
    "plt.legend(loc='lower right')\n",
    "plt.title('Training Accuracy')\n",
    "plt.xlabel('Epochs')\n",
    "plt.ylabel('Accuracy')\n",
    "\n",
    "plt.subplot(1, 2, 2)\n",
    "plt.plot(epochs_range, loss, label='Training Loss')\n",
    "# plt.plot(epochs_range, val_loss, label='Validation Loss')\n",
    "plt.legend(loc='upper right')\n",
    "plt.title('Training Loss')\n",
    "plt.xlabel('Epochs')\n",
    "plt.ylabel('Accuracy')\n",
    "plt.show()"
   ]
  },
  {
   "cell_type": "code",
   "execution_count": null,
   "metadata": {
    "colab": {
     "base_uri": "https://localhost:8080/",
     "height": 374
    },
    "colab_type": "code",
    "id": "fNQxHLtKXasm",
    "outputId": "7d4bde0f-a830-4828-8521-db0ade3850a1"
   },
   "outputs": [],
   "source": [
    "model.fit_generator(\n",
    "    train_data_gen,\n",
    "    # STEP_SIZE_TRAIN=train_data_gen.n//train_data_gen.batch_size,\n",
    "    # STEP_SIZE_VALID=valid_data_gen.n//valid_data_gen.batch_size,\n",
    "    epochs=epochs,\n",
    "    # validation_data=valid_data_gen,\n",
    "    # validation_steps=5)\n",
    ")"
   ]
  },
  {
   "cell_type": "code",
   "execution_count": null,
   "metadata": {
    "colab": {},
    "colab_type": "code",
    "id": "BwKU0gauYsw_"
   },
   "outputs": [],
   "source": [
    "model.save('model-01.h5')"
   ]
  },
  {
   "cell_type": "code",
   "execution_count": null,
   "metadata": {
    "colab": {},
    "colab_type": "code",
    "id": "6qA2k7ZX-_P2"
   },
   "outputs": [],
   "source": [
    "model = model_1()\n",
    "model.compile(optimizers.rmsprop(lr=0.0001),\n",
    "loss=\"categorical_crossentropy\", metrics=[\"accuracy\"])\n",
    "STEP_SIZE_TRAIN=train_data_gen.n//train_data_gen.batch_size\n",
    "STEP_SIZE_VALID=valid_data_gen.n//valid_data_gen.batch_size\n",
    "history = model.fit_generator(generator=train_data_gen,\n",
    "                    steps_per_epoch=STEP_SIZE_TRAIN,\n",
    "                    validation_data=valid_data_gen,\n",
    "                    validation_steps=STEP_SIZE_VALID,\n",
    "                    epochs=epochs,\n",
    "                    )"
   ]
  },
  {
   "cell_type": "code",
   "execution_count": null,
   "metadata": {
    "colab": {},
    "colab_type": "code",
    "id": "qeC4aQ4fWoLx"
   },
   "outputs": [],
   "source": [
    "model.save('model.h5')"
   ]
  },
  {
   "cell_type": "code",
   "execution_count": null,
   "metadata": {
    "colab": {
     "base_uri": "https://localhost:8080/",
     "height": 350
    },
    "colab_type": "code",
    "id": "uynu9mSa9IVX",
    "outputId": "51f00d97-e485-4672-f3fe-e3b5e1fe2064"
   },
   "outputs": [],
   "source": [
    "# model = model_1()\n",
    "# model.compile(loss=keras.losses.categorical_crossentropy,\n",
    "#               optimizer=keras.optimizers.Adadelta(),\n",
    "#               metrics=['accuracy'])\n",
    "\n",
    "# history = model.fit(X, y,\n",
    "#           batch_size=batch_size,\n",
    "#           epochs=epochs,\n",
    "#           verbose=1,\n",
    "#           )\n",
    "# score = model.evaluate(x_test, y_test, verbose=0)\n",
    "# print('Test loss:', score[0])\n",
    "# print('Test accuracy:', score[1])"
   ]
  },
  {
   "cell_type": "markdown",
   "metadata": {
    "colab_type": "text",
    "id": "ep3xVFlkEgjn"
   },
   "source": [
    "## Trying VGG16 pretrained model"
   ]
  },
  {
   "cell_type": "code",
   "execution_count": 21,
   "metadata": {
    "colab": {
     "base_uri": "https://localhost:8080/",
     "height": 799
    },
    "colab_type": "code",
    "id": "tznMWASAdJ5b",
    "outputId": "9d0c1a7e-f960-4343-822f-0fe9d6ffb615"
   },
   "outputs": [
    {
     "name": "stdout",
     "output_type": "stream",
     "text": [
      "WARNING:tensorflow:From /home/atlas/miniconda3/envs/atlas/lib/python3.6/site-packages/keras/backend/tensorflow_backend.py:4070: The name tf.nn.max_pool is deprecated. Please use tf.nn.max_pool2d instead.\n",
      "\n",
      "Model: \"model_1\"\n",
      "_________________________________________________________________\n",
      "Layer (type)                 Output Shape              Param #   \n",
      "=================================================================\n",
      "input_1 (InputLayer)         (None, 150, 150, 3)       0         \n",
      "_________________________________________________________________\n",
      "block1_conv1 (Conv2D)        (None, 150, 150, 64)      1792      \n",
      "_________________________________________________________________\n",
      "block1_conv2 (Conv2D)        (None, 150, 150, 64)      36928     \n",
      "_________________________________________________________________\n",
      "block1_pool (MaxPooling2D)   (None, 75, 75, 64)        0         \n",
      "_________________________________________________________________\n",
      "block2_conv1 (Conv2D)        (None, 75, 75, 128)       73856     \n",
      "_________________________________________________________________\n",
      "block2_conv2 (Conv2D)        (None, 75, 75, 128)       147584    \n",
      "_________________________________________________________________\n",
      "block2_pool (MaxPooling2D)   (None, 37, 37, 128)       0         \n",
      "_________________________________________________________________\n",
      "block3_conv1 (Conv2D)        (None, 37, 37, 256)       295168    \n",
      "_________________________________________________________________\n",
      "block3_conv2 (Conv2D)        (None, 37, 37, 256)       590080    \n",
      "_________________________________________________________________\n",
      "block3_conv3 (Conv2D)        (None, 37, 37, 256)       590080    \n",
      "_________________________________________________________________\n",
      "block3_pool (MaxPooling2D)   (None, 18, 18, 256)       0         \n",
      "_________________________________________________________________\n",
      "block4_conv1 (Conv2D)        (None, 18, 18, 512)       1180160   \n",
      "_________________________________________________________________\n",
      "block4_conv2 (Conv2D)        (None, 18, 18, 512)       2359808   \n",
      "_________________________________________________________________\n",
      "block4_conv3 (Conv2D)        (None, 18, 18, 512)       2359808   \n",
      "_________________________________________________________________\n",
      "block4_pool (MaxPooling2D)   (None, 9, 9, 512)         0         \n",
      "_________________________________________________________________\n",
      "block5_conv1 (Conv2D)        (None, 9, 9, 512)         2359808   \n",
      "_________________________________________________________________\n",
      "block5_conv2 (Conv2D)        (None, 9, 9, 512)         2359808   \n",
      "_________________________________________________________________\n",
      "block5_conv3 (Conv2D)        (None, 9, 9, 512)         2359808   \n",
      "_________________________________________________________________\n",
      "block5_pool (MaxPooling2D)   (None, 4, 4, 512)         0         \n",
      "_________________________________________________________________\n",
      "max_pooling2d_1 (MaxPooling2 (None, 2, 2, 512)         0         \n",
      "_________________________________________________________________\n",
      "flatten_1 (Flatten)          (None, 2048)              0         \n",
      "_________________________________________________________________\n",
      "dense_1 (Dense)              (None, 1024)              2098176   \n",
      "_________________________________________________________________\n",
      "dense_2 (Dense)              (None, 7894)              8091350   \n",
      "=================================================================\n",
      "Total params: 24,904,214\n",
      "Trainable params: 10,189,526\n",
      "Non-trainable params: 14,714,688\n",
      "_________________________________________________________________\n"
     ]
    }
   ],
   "source": [
    "from keras.applications.vgg16 import VGG16\n",
    "\n",
    "\n",
    "def create_model():\n",
    "    model_vgg = VGG16(weights='imagenet', include_top=False,input_shape=(150,150,3))\n",
    "  # flat1 = Flatten()(model.outputs)\n",
    "  # class1 = Dense(1024, activation='relu')(flat1)\n",
    "    for layers in model_vgg.layers:\n",
    "        layers.trainable=False\n",
    "        \n",
    "    max_1 = MaxPooling2D(pool_size=(2,2))(model_vgg.layers[-1].output)\n",
    "    flat1 = Flatten()(max_1)\n",
    "    dense_1 = Dense(1024, activation='relu')(flat1)\n",
    "    output = Dense(7894, activation='softmax')(dense_1)\n",
    "    \n",
    "    model = Model(inputs=model_vgg.inputs, outputs=output)\n",
    "\n",
    "    return model\n",
    "\n",
    "model = create_model()\n",
    "\n",
    "model.compile(loss='categorical_crossentropy', optimizer=optimizers.Adam(lr=0.001),\n",
    "              metrics=['accuracy'])\n",
    "\n",
    "model.summary()"
   ]
  },
  {
   "cell_type": "code",
   "execution_count": 22,
   "metadata": {
    "colab": {
     "base_uri": "https://localhost:8080/",
     "height": 231
    },
    "colab_type": "code",
    "id": "7IAjLo5wlgkT",
    "outputId": "40e709e6-349b-4fac-8ec4-07e15f8ba990"
   },
   "outputs": [
    {
     "name": "stdout",
     "output_type": "stream",
     "text": [
      "WARNING:tensorflow:From /home/atlas/miniconda3/envs/atlas/lib/python3.6/site-packages/keras/backend/tensorflow_backend.py:422: The name tf.global_variables is deprecated. Please use tf.compat.v1.global_variables instead.\n",
      "\n",
      "Epoch 1/2\n",
      "1481/1481 [==============================] - 107s 72ms/step - loss: 7.9193 - accuracy: 0.0253\n",
      "Epoch 2/2\n",
      "1481/1481 [==============================] - 105s 71ms/step - loss: 5.7266 - accuracy: 0.1077\n"
     ]
    }
   ],
   "source": [
    "# history = model.fit_generator(\n",
    "#     train_data_gen.flow(X, y, batch_size=batch_size),\n",
    "#     steps_per_epoch=X.shape[0] // batch_size,\n",
    "#     epochs=epochs,\n",
    "#     # validation_data=(x_test, y_test),\n",
    "#     callbacks=[ModelCheckpoint('VGG16-transferlearning.model', monitor='val_acc', save_best_only=True)]\n",
    "# )\n",
    "history = model.fit(train_data_gen,steps_per_epoch=train_data_gen.n//train_data_gen.batch_size,epochs=2,\n",
    "                   validation_data=valid_data_gen,\n",
    "                   validation_steps=valid_data_gen.n//valid_data_gen.batch_size)"
   ]
  },
  {
   "cell_type": "code",
   "execution_count": 25,
   "metadata": {},
   "outputs": [],
   "source": [
    "model.save('v1.00.vgg-model.h5')"
   ]
  },
  {
   "cell_type": "code",
   "execution_count": 24,
   "metadata": {
    "colab": {},
    "colab_type": "code",
    "id": "C1J97ZELj9DN"
   },
   "outputs": [
    {
     "data": {
      "image/png": "[encoded data removed]",
      "text/plain": [
       "<Figure size 576x576 with 2 Axes>"
      ]
     },
     "metadata": {
      "needs_background": "light"
     },
     "output_type": "display_data"
    }
   ],
   "source": [
    "acc = history.history['accuracy']\n",
    "\n",
    "# val_acc = history.history['val_accuracy']\n",
    "\n",
    "loss=history.history['loss']\n",
    "# val_loss=history.history['val_loss']\n",
    "\n",
    "epochs_range = range(epochs)\n",
    "\n",
    "plt.figure(figsize=(8, 8))\n",
    "plt.subplot(1, 2, 1)\n",
    "plt.plot(epochs_range, acc, label='Training Accuracy')\n",
    "# plt.plot(epochs_range, val_acc, label='Validation Accuracy')\n",
    "plt.legend(loc='lower right')\n",
    "plt.title('Training and Validation Accuracy')\n",
    "\n",
    "plt.subplot(1, 2, 2)\n",
    "plt.plot(epochs_range, loss, label='Training Loss')\n",
    "# plt.plot(epochs_range, val_loss, label='Validation Loss')\n",
    "plt.legend(loc='upper right')\n",
    "plt.title('Training and Validation Loss')\n",
    "plt.show()"
   ]
  },
  {
   "cell_type": "markdown",
   "metadata": {
    "colab_type": "text",
    "id": "bDtggfcPWSgU"
   },
   "source": [
    "## Inference"
   ]
  },
  {
   "cell_type": "code",
   "execution_count": null,
   "metadata": {
    "colab": {},
    "colab_type": "code",
    "id": "GTIEiIdVWRcI"
   },
   "outputs": [],
   "source": [
    "model = load_model('model.h5')\n",
    "\n",
    "model.compile(loss='binary_crossentropy',\n",
    "              optimizer='rmsprop',\n",
    "              metrics=['accuracy'])\n",
    "\n",
    "img = cv2.imread('/content/drive/My Drive/test/new_shell_images_2nd/img/Aandara_consociata_10_A.jpg')\n",
    "img = cv2.resize(img,(150,150))\n",
    "img = np.reshape(img,[150, 150, 1])\n",
    "\n",
    "classes = model.predict_classes(img)\n",
    "\n",
    "print(classes)"
   ]
  },
  {
   "cell_type": "markdown",
   "metadata": {},
   "source": [
    "# Mobile net"
   ]
  },
  {
   "cell_type": "code",
   "execution_count": 27,
   "metadata": {},
   "outputs": [],
   "source": [
    "from tensorflow.keras.models import Sequential, Model\n",
    "from tensorflow.keras.layers import Dense, Conv2D, Flatten, Dropout, MaxPooling2D, GlobalAveragePooling2D\n",
    "from tensorflow.keras.preprocessing.image import ImageDataGenerator\n",
    "\n",
    "import os\n",
    "import numpy as np\n",
    "import matplotlib.pyplot as plt\n",
    "\n",
    "from tensorflow.keras.applications import MobileNet\n",
    "from tensorflow.keras.applications.mobilenet import preprocess_input\n",
    "from tensorflow.keras import optimizers"
   ]
  },
  {
   "cell_type": "code",
   "execution_count": 28,
   "metadata": {},
   "outputs": [],
   "source": [
    "class Mobile_net(Model):\n",
    "    def __init__(self):\n",
    "        super(Mobile_net, self).__init__()\n",
    "        self.base_model = MobileNet(weights='imagenet',include_top=False, pooling=\"avg\", input_shape=(224,224,3))\n",
    "        # self.global_pool = GlobalAveragePooling2D()\n",
    "        self.dense_1 = Dense(1024, activation='relu')\n",
    "        self.dense_2 = Dense(512, activation='relu')\n",
    "        self.dense_3 =  Dense(7894, activation='softmax')\n",
    "\n",
    "    \n",
    "    def call(self, x):\n",
    "        x = self.base_model(x)\n",
    "        # x = self.global_pool(x)\n",
    "        x = self.dense_1(x)\n",
    "        x = self.dense_2(x)\n",
    "        x = self.dense_3(x)\n",
    "        return x"
   ]
  },
  {
   "cell_type": "code",
   "execution_count": 29,
   "metadata": {},
   "outputs": [],
   "source": [
    "model_1 = Mobile_net()"
   ]
  },
  {
   "cell_type": "code",
   "execution_count": 30,
   "metadata": {},
   "outputs": [],
   "source": [
    "model_1.compile(loss='categorical_crossentropy', optimizer=optimizers.Adam(lr=0.001),\n",
    "              metrics=['accuracy'])"
   ]
  },
  {
   "cell_type": "code",
   "execution_count": 31,
   "metadata": {},
   "outputs": [
    {
     "name": "stdout",
     "output_type": "stream",
     "text": [
      "Epoch 1/2\n",
      "370/370 [==============================] - 218s 589ms/step - loss: 7.6765 - accuracy: 0.0262\n",
      "Epoch 2/2\n",
      "370/370 [==============================] - 220s 594ms/step - loss: 5.1884 - accuracy: 0.1071\n"
     ]
    }
   ],
   "source": [
    "history = model_1.fit(train_data_gen,steps_per_epoch=train_data_gen.n//train_data_gen.batch_size,epochs=2)"
   ]
  },
  {
   "cell_type": "code",
   "execution_count": null,
   "metadata": {},
   "outputs": [],
   "source": [
    "model_1.evaluate()"
   ]
  },
  {
   "cell_type": "code",
   "execution_count": 72,
   "metadata": {},
   "outputs": [
    {
     "data": {
      "image/png": "[encoded data removed]",
      "text/plain": [
       "<Figure size 576x576 with 2 Axes>"
      ]
     },
     "metadata": {
      "needs_background": "light"
     },
     "output_type": "display_data"
    }
   ],
   "source": [
    "acc = history.history['accuracy']\n",
    "# val_acc = history.history['val_accuracy']\n",
    "\n",
    "loss=history.history['loss']\n",
    "# val_loss=history.history['val_loss']\n",
    "\n",
    "epochs_range = range(10)\n",
    "\n",
    "plt.figure(figsize=(8, 8))\n",
    "plt.subplot(1, 2, 1)\n",
    "plt.plot(epochs_range, acc, label='Training Accuracy')\n",
    "# plt.plot(epochs_range, val_acc, label='Validation Accuracy')\n",
    "plt.legend(loc='lower right')\n",
    "plt.title('Training Accuracy')\n",
    "\n",
    "plt.subplot(1, 2, 2)\n",
    "plt.plot(epochs_range, loss, label='Training Loss')\n",
    "# plt.plot(epochs_range, val_loss, label='Validation Loss')\n",
    "plt.legend(loc='upper right')\n",
    "plt.title('Training loss')\n",
    "plt.show()"
   ]
  },
  {
   "cell_type": "code",
   "execution_count": 32,
   "metadata": {},
   "outputs": [],
   "source": [
    "model_1.save_weights('/home/atlas/Atlas/Bishwa/shell-identification-1-/models/v1.00.mobile-net')"
   ]
  },
  {
   "cell_type": "markdown",
   "metadata": {},
   "source": [
    "make prediction"
   ]
  },
  {
   "cell_type": "code",
   "execution_count": 33,
   "metadata": {},
   "outputs": [
    {
     "data": {
      "text/plain": [
       "<tensorflow.python.training.tracking.util.CheckpointLoadStatus at 0x7fc45aa19880>"
      ]
     },
     "execution_count": 33,
     "metadata": {},
     "output_type": "execute_result"
    }
   ],
   "source": [
    "model_1.load_weights('/home/atlas/Atlas/Bishwa/shell-identification-1-/models/v1.00.mobile-net')"
   ]
  },
  {
   "cell_type": "code",
   "execution_count": 34,
   "metadata": {},
   "outputs": [
    {
     "name": "stdout",
     "output_type": "stream",
     "text": [
      "Model: \"mobile_net\"\n",
      "_________________________________________________________________\n",
      "Layer (type)                 Output Shape              Param #   \n",
      "=================================================================\n",
      "mobilenet_1.00_224 (Model)   (None, 1024)              3228864   \n",
      "_________________________________________________________________\n",
      "dense (Dense)                multiple                  1049600   \n",
      "_________________________________________________________________\n",
      "dense_1 (Dense)              multiple                  524800    \n",
      "_________________________________________________________________\n",
      "dense_2 (Dense)              multiple                  4049622   \n",
      "=================================================================\n",
      "Total params: 8,852,886\n",
      "Trainable params: 8,830,998\n",
      "Non-trainable params: 21,888\n",
      "_________________________________________________________________\n"
     ]
    }
   ],
   "source": [
    "model_1.summary()"
   ]
  },
  {
   "cell_type": "code",
   "execution_count": 41,
   "metadata": {},
   "outputs": [],
   "source": [
    "# !pip install opencv-python"
   ]
  },
  {
   "cell_type": "code",
   "execution_count": 35,
   "metadata": {},
   "outputs": [],
   "source": [
    "from keras.preprocessing.image import img_to_array\n",
    "import numpy as np\n",
    "import cv2"
   ]
  },
  {
   "cell_type": "code",
   "execution_count": 36,
   "metadata": {},
   "outputs": [],
   "source": [
    "img = img_dir+'/Arthritica_helmsi_1_B.jpg'\n",
    "image = cv2.imread(img)\n",
    "image = cv2.resize(image, (224, 224))\n",
    "image = image.astype(\"float\") / 255.0\n",
    "image = img_to_array(image)\n",
    "image = np.expand_dims(image, axis=0)\n",
    "predict = model_1.predict(image)"
   ]
  },
  {
   "cell_type": "code",
   "execution_count": 37,
   "metadata": {},
   "outputs": [
    {
     "name": "stdout",
     "output_type": "stream",
     "text": [
      "Label name: Dulcina karubari\n"
     ]
    }
   ],
   "source": [
    "label = np.argmax(predict)\n",
    "labelName = list(label_dict.keys())[label]\n",
    "print(\"Label name:\", labelName)"
   ]
  },
  {
   "cell_type": "code",
   "execution_count": 38,
   "metadata": {},
   "outputs": [],
   "source": [
    "label_dict_inv = {v:k for k,v in label_dict.items()}"
   ]
  },
  {
   "cell_type": "code",
   "execution_count": 39,
   "metadata": {},
   "outputs": [
    {
     "data": {
      "text/plain": [
       "'Dulcina karubari'"
      ]
     },
     "execution_count": 39,
     "metadata": {},
     "output_type": "execute_result"
    }
   ],
   "source": [
    "label_dict_inv[label]"
   ]
  },
  {
   "cell_type": "code",
   "execution_count": 40,
   "metadata": {},
   "outputs": [],
   "source": [
    "import json"
   ]
  },
  {
   "cell_type": "code",
   "execution_count": 41,
   "metadata": {},
   "outputs": [],
   "source": [
    "with open('/home/atlas/Atlas/Bishwa/shell-identification-1-/src/labels/v1.00.mobile-net-label.json', 'w') as f:\n",
    "    json.dump(label_dict, f)"
   ]
  },
  {
   "cell_type": "code",
   "execution_count": 42,
   "metadata": {},
   "outputs": [
    {
     "name": "stdout",
     "output_type": "stream",
     "text": [
      "/home/atlas/Atlas/Bishwa\r\n"
     ]
    }
   ],
   "source": [
    "!pwd"
   ]
  },
  {
   "cell_type": "code",
   "execution_count": 43,
   "metadata": {},
   "outputs": [
    {
     "name": "stdout",
     "output_type": "stream",
     "text": [
      "/home/atlas/Atlas/Bishwa/shell-identification-1-/src\n"
     ]
    }
   ],
   "source": [
    "cd shell-identification-1-/src/"
   ]
  },
  {
   "cell_type": "code",
   "execution_count": 45,
   "metadata": {},
   "outputs": [
    {
     "name": "stdout",
     "output_type": "stream",
     "text": [
      "2020-07-14 14:15:10.896143: I tensorflow/stream_executor/platform/default/dso_loader.cc:44] Successfully opened dynamic library libcuda.so.1\n",
      "2020-07-14 14:15:10.923104: I tensorflow/core/common_runtime/gpu/gpu_device.cc:1561] Found device 0 with properties: \n",
      "pciBusID: 0000:02:00.0 name: GeForce GTX 1080 computeCapability: 6.1\n",
      "coreClock: 1.7335GHz coreCount: 20 deviceMemorySize: 7.93GiB deviceMemoryBandwidth: 298.32GiB/s\n",
      "2020-07-14 14:15:10.924653: I tensorflow/core/common_runtime/gpu/gpu_device.cc:1561] Found device 1 with properties: \n",
      "pciBusID: 0000:04:00.0 name: GeForce GTX 1080 computeCapability: 6.1\n",
      "coreClock: 1.7335GHz coreCount: 20 deviceMemorySize: 7.93GiB deviceMemoryBandwidth: 298.32GiB/s\n",
      "2020-07-14 14:15:10.926173: I tensorflow/core/common_runtime/gpu/gpu_device.cc:1561] Found device 2 with properties: \n",
      "pciBusID: 0000:05:00.0 name: GeForce GTX 1080 computeCapability: 6.1\n",
      "coreClock: 1.7335GHz coreCount: 20 deviceMemorySize: 7.93GiB deviceMemoryBandwidth: 298.32GiB/s\n",
      "2020-07-14 14:15:10.927687: I tensorflow/core/common_runtime/gpu/gpu_device.cc:1561] Found device 3 with properties: \n",
      "pciBusID: 0000:06:00.0 name: GeForce GTX 1080 computeCapability: 6.1\n",
      "coreClock: 1.7335GHz coreCount: 20 deviceMemorySize: 7.93GiB deviceMemoryBandwidth: 298.32GiB/s\n",
      "2020-07-14 14:15:10.928002: I tensorflow/stream_executor/platform/default/dso_loader.cc:44] Successfully opened dynamic library libcudart.so.10.1\n",
      "2020-07-14 14:15:10.929828: I tensorflow/stream_executor/platform/default/dso_loader.cc:44] Successfully opened dynamic library libcublas.so.10\n",
      "2020-07-14 14:15:10.931514: I tensorflow/stream_executor/platform/default/dso_loader.cc:44] Successfully opened dynamic library libcufft.so.10\n",
      "2020-07-14 14:15:10.931885: I tensorflow/stream_executor/platform/default/dso_loader.cc:44] Successfully opened dynamic library libcurand.so.10\n",
      "2020-07-14 14:15:10.933853: I tensorflow/stream_executor/platform/default/dso_loader.cc:44] Successfully opened dynamic library libcusolver.so.10\n",
      "2020-07-14 14:15:10.935101: I tensorflow/stream_executor/platform/default/dso_loader.cc:44] Successfully opened dynamic library libcusparse.so.10\n",
      "2020-07-14 14:15:10.939553: I tensorflow/stream_executor/platform/default/dso_loader.cc:44] Successfully opened dynamic library libcudnn.so.7\n",
      "2020-07-14 14:15:10.951285: I tensorflow/core/common_runtime/gpu/gpu_device.cc:1703] Adding visible gpu devices: 0, 1, 2, 3\n",
      "2020-07-14 14:15:10.951689: I tensorflow/core/platform/cpu_feature_guard.cc:143] Your CPU supports instructions that this TensorFlow binary was not compiled to use: AVX2 FMA\n",
      "2020-07-14 14:15:10.981208: I tensorflow/core/platform/profile_utils/cpu_utils.cc:102] CPU Frequency: 3598230000 Hz\n",
      "2020-07-14 14:15:10.981849: I tensorflow/compiler/xla/service/service.cc:168] XLA service 0x7f6528000b20 initialized for platform Host (this does not guarantee that XLA will be used). Devices:\n",
      "2020-07-14 14:15:10.981874: I tensorflow/compiler/xla/service/service.cc:176]   StreamExecutor device (0): Host, Default Version\n",
      "2020-07-14 14:15:11.608739: I tensorflow/compiler/xla/service/service.cc:168] XLA service 0x557005812950 initialized for platform CUDA (this does not guarantee that XLA will be used). Devices:\n",
      "2020-07-14 14:15:11.608770: I tensorflow/compiler/xla/service/service.cc:176]   StreamExecutor device (0): GeForce GTX 1080, Compute Capability 6.1\n",
      "2020-07-14 14:15:11.608782: I tensorflow/compiler/xla/service/service.cc:176]   StreamExecutor device (1): GeForce GTX 1080, Compute Capability 6.1\n",
      "2020-07-14 14:15:11.608790: I tensorflow/compiler/xla/service/service.cc:176]   StreamExecutor device (2): GeForce GTX 1080, Compute Capability 6.1\n",
      "2020-07-14 14:15:11.608798: I tensorflow/compiler/xla/service/service.cc:176]   StreamExecutor device (3): GeForce GTX 1080, Compute Capability 6.1\n",
      "2020-07-14 14:15:11.610881: I tensorflow/core/common_runtime/gpu/gpu_device.cc:1561] Found device 0 with properties: \n",
      "pciBusID: 0000:02:00.0 name: GeForce GTX 1080 computeCapability: 6.1\n",
      "coreClock: 1.7335GHz coreCount: 20 deviceMemorySize: 7.93GiB deviceMemoryBandwidth: 298.32GiB/s\n",
      "2020-07-14 14:15:11.611978: I tensorflow/core/common_runtime/gpu/gpu_device.cc:1561] Found device 1 with properties: \n",
      "pciBusID: 0000:04:00.0 name: GeForce GTX 1080 computeCapability: 6.1\n",
      "coreClock: 1.7335GHz coreCount: 20 deviceMemorySize: 7.93GiB deviceMemoryBandwidth: 298.32GiB/s\n",
      "2020-07-14 14:15:11.613072: I tensorflow/core/common_runtime/gpu/gpu_device.cc:1561] Found device 2 with properties: \n",
      "pciBusID: 0000:05:00.0 name: GeForce GTX 1080 computeCapability: 6.1\n",
      "coreClock: 1.7335GHz coreCount: 20 deviceMemorySize: 7.93GiB deviceMemoryBandwidth: 298.32GiB/s\n",
      "2020-07-14 14:15:11.614159: I tensorflow/core/common_runtime/gpu/gpu_device.cc:1561] Found device 3 with properties: \n",
      "pciBusID: 0000:06:00.0 name: GeForce GTX 1080 computeCapability: 6.1\n",
      "coreClock: 1.7335GHz coreCount: 20 deviceMemorySize: 7.93GiB deviceMemoryBandwidth: 298.32GiB/s\n",
      "2020-07-14 14:15:11.614231: I tensorflow/stream_executor/platform/default/dso_loader.cc:44] Successfully opened dynamic library libcudart.so.10.1\n",
      "2020-07-14 14:15:11.614265: I tensorflow/stream_executor/platform/default/dso_loader.cc:44] Successfully opened dynamic library libcublas.so.10\n",
      "2020-07-14 14:15:11.614294: I tensorflow/stream_executor/platform/default/dso_loader.cc:44] Successfully opened dynamic library libcufft.so.10\n",
      "2020-07-14 14:15:11.614322: I tensorflow/stream_executor/platform/default/dso_loader.cc:44] Successfully opened dynamic library libcurand.so.10\n",
      "2020-07-14 14:15:11.614350: I tensorflow/stream_executor/platform/default/dso_loader.cc:44] Successfully opened dynamic library libcusolver.so.10\n",
      "2020-07-14 14:15:11.614377: I tensorflow/stream_executor/platform/default/dso_loader.cc:44] Successfully opened dynamic library libcusparse.so.10\n",
      "2020-07-14 14:15:11.614405: I tensorflow/stream_executor/platform/default/dso_loader.cc:44] Successfully opened dynamic library libcudnn.so.7\n",
      "2020-07-14 14:15:11.624529: I tensorflow/core/common_runtime/gpu/gpu_device.cc:1703] Adding visible gpu devices: 0, 1, 2, 3\n",
      "2020-07-14 14:15:11.624590: I tensorflow/stream_executor/platform/default/dso_loader.cc:44] Successfully opened dynamic library libcudart.so.10.1\n",
      "2020-07-14 14:15:11.629416: I tensorflow/core/common_runtime/gpu/gpu_device.cc:1102] Device interconnect StreamExecutor with strength 1 edge matrix:\n",
      "2020-07-14 14:15:11.629439: I tensorflow/core/common_runtime/gpu/gpu_device.cc:1108]      0 1 2 3 \n",
      "2020-07-14 14:15:11.629451: I tensorflow/core/common_runtime/gpu/gpu_device.cc:1121] 0:   N Y Y Y \n",
      "2020-07-14 14:15:11.629460: I tensorflow/core/common_runtime/gpu/gpu_device.cc:1121] 1:   Y N Y Y \n",
      "2020-07-14 14:15:11.629467: I tensorflow/core/common_runtime/gpu/gpu_device.cc:1121] 2:   Y Y N Y \n",
      "2020-07-14 14:15:11.629475: I tensorflow/core/common_runtime/gpu/gpu_device.cc:1121] 3:   Y Y Y N \n",
      "2020-07-14 14:15:11.634814: I tensorflow/core/common_runtime/gpu/gpu_device.cc:1247] Created TensorFlow device (/job:localhost/replica:0/task:0/device:GPU:0 with 82 MB memory) -> physical GPU (device: 0, name: GeForce GTX 1080, pci bus id: 0000:02:00.0, compute capability: 6.1)\n",
      "2020-07-14 14:15:11.636614: I tensorflow/core/common_runtime/gpu/gpu_device.cc:1247] Created TensorFlow device (/job:localhost/replica:0/task:0/device:GPU:1 with 7425 MB memory) -> physical GPU (device: 1, name: GeForce GTX 1080, pci bus id: 0000:04:00.0, compute capability: 6.1)\n",
      "2020-07-14 14:15:11.638138: I tensorflow/core/common_runtime/gpu/gpu_device.cc:1247] Created TensorFlow device (/job:localhost/replica:0/task:0/device:GPU:2 with 7425 MB memory) -> physical GPU (device: 2, name: GeForce GTX 1080, pci bus id: 0000:05:00.0, compute capability: 6.1)\n",
      "2020-07-14 14:15:11.640271: I tensorflow/core/common_runtime/gpu/gpu_device.cc:1247] Created TensorFlow device (/job:localhost/replica:0/task:0/device:GPU:3 with 7425 MB memory) -> physical GPU (device: 3, name: GeForce GTX 1080, pci bus id: 0000:06:00.0, compute capability: 6.1)\n",
      "2020-07-14 14:15:11.646882: I tensorflow/stream_executor/cuda/cuda_driver.cc:763] failed to allocate 82.62M (86638592 bytes) from device: CUDA_ERROR_OUT_OF_MEMORY: out of memory\n",
      "2020-07-14 14:15:11.655069: F ./tensorflow/core/kernels/random_op_gpu.h:232] Non-OK-status: GpuLaunchKernel(FillPhiloxRandomKernelLaunch<Distribution>, num_blocks, block_size, 0, d.stream(), gen, data, size, dist) status: Internal: out of memory\n"
     ]
    }
   ],
   "source": [
    "!python predict.py"
   ]
  },
  {
   "cell_type": "code",
   "execution_count": null,
   "metadata": {},
   "outputs": [],
   "source": []
  }
 ],
 "metadata": {
  "accelerator": "GPU",
  "colab": {
   "collapsed_sections": [],
   "name": "shell_classification (1).ipynb",
   "provenance": []
  },
  "kernelspec": {
   "display_name": "Python 3",
   "language": "python",
   "name": "python3"
  },
  "language_info": {
   "codemirror_mode": {
    "name": "ipython",
    "version": 3
   },
   "file_extension": ".py",
   "mimetype": "text/x-python",
   "name": "python",
   "nbconvert_exporter": "python",
   "pygments_lexer": "ipython3",
   "version": "3.8.3"
  }
 },
 "nbformat": 4,
 "nbformat_minor": 1
}
